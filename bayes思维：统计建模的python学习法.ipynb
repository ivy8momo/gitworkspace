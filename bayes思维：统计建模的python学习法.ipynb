{
 "cells": [
  {
   "cell_type": "markdown",
   "metadata": {},
   "source": [
    "# 贝叶斯框架"
   ]
  },
  {
   "cell_type": "markdown",
   "metadata": {},
   "source": [
    "贝叶斯公式：P(H|D) = P(H) * P(D|H)/P(D) \n",
    "\n",
    "后验概率 = 先验概率 *似然度/标准度量\n",
    "\n",
    "###  1、计算后验概率的一种通用方法\n",
    "\n",
    "#### 示例一：Cookie问题\n",
    "已知：'Bowl 1'中'Cookie'有30个，'sweet'有10个；'Bowl 2'中'Cookie'有20个，'sweet'有20个\n",
    "问：随机抽到一个'Cookie'，来自'Bowl 1'的概率\n",
    "\n",
    "全部假设空间\n",
    "A：抽到一个'Cookie'，来自'Bowl 1'\n",
    "B：抽到一个'Cookie'，来自'Bowl 2'\n",
    "\n",
    "|先验概率P(H) | 似然度P(D/H) | update P(H)P(D/H) | 后验概率P(H/D) |\n",
    "| - | :-: | :-: | -: | \n",
    "| 假设A 1/2 |30 | 15 | 3/5 | \n",
    "| 假设B 1/2 |20 | 10 | 3/5 | \n",
    "\n",
    "其中\n",
    "* 先验概率为假设A、B的初始概率均为1/2\n",
    "* 似然度根据观察不同Bowl中'Cookie'数量得到\n",
    "* update为根据似然度更新先验概率\n",
    "* 观察已知抽到一个'Cookie'，因此抽到'Cookie'的概率P(D)=1\n",
    "* 后验概率=将所有假设的update值归一化\n",
    "\n",
    "\n",
    "#### 示例二：蒙蒂大厅问题\n",
    "已知：蒙蒂大厅有三个门A、B、C,仅一个门后有奖品，你选择了A，在打开之前，蒙蒂打开了B或C中一个没有奖品的门（蒙蒂知道哪个门后有奖品）\n",
    "问：是否应该坚持打开A，打开和更换哪个找到奖品的概率高\n",
    "\n",
    "全部假设空间\n",
    "\n",
    "A：打开门，奖品在A（等价于不更换）；\n",
    "B：打开门，奖品在B（根据实际情况已知概率为0）；\n",
    "C：打开门，奖品在C（等价于更换）\n",
    "\n",
    "|先验概率P(H) | 似然度P(D/H) | update P(H)P(D/H) | 后验概率P(H/D) |\n",
    "| - | :-: | :-: | -: | \n",
    "| 假设A 1/3 |1/2 | 1/6 | 1/3 | \n",
    "| 假设B 1/3 |0 | 0 | 0 |\n",
    "| 假设B 1/3 |1 | 1/3 | 2/3 |\n",
    "\n",
    "其中\n",
    "* 先验：在未打开任何门时，概率均为1/3\n",
    "* 似然度：观察到，蒙蒂打开B门且没有车\n",
    "    * 对于假设A，奖品在A门，则蒙蒂可以随意打开BC门，蒙蒂打开B门且没有车的概率为1/2（打开B的概率为1/2,没有车的概率为1）\n",
    "    * 对于假设B，观察到概率为0\n",
    "    * 对于假设C，奖品在C门，则蒙蒂只能打开B门，蒙蒂打开B门且没有车的概率为1（打开B的概率为1,没有车的概率为1）\n",
    "    \n"
   ]
  },
  {
   "cell_type": "markdown",
   "metadata": {},
   "source": [
    "### 2、ThinkBayes2贝叶斯工具包\n",
    "\n",
    "工具包一般使用步骤包括：\n",
    "- 选择假设的表示方法\n",
    "- 选择数据的表示方法\n",
    "- 设计一个抽象类：\n",
    "    - 全局变量 _ _init_ _：一般会设置所有假设先验概率相同\n",
    "    - Update函数：一个mult的乘法函数\n",
    "    - 用于update的数据表示方法\n",
    "    - 似然度函数\n"
   ]
  },
  {
   "cell_type": "code",
   "execution_count": 41,
   "metadata": {},
   "outputs": [],
   "source": [
    "# 导入贝叶斯包\n",
    "import ThinkBayes2\n",
    "from ThinkBayes2 import Pmf"
   ]
  },
  {
   "cell_type": "code",
   "execution_count": 49,
   "metadata": {},
   "outputs": [
    {
     "name": "stdout",
     "output_type": "stream",
     "text": [
      "Bowl 1 0.6000000000000001\n",
      "Bowl 2 0.4\n",
      "Bowl 1 0.5294117647058824\n",
      "Bowl 2 0.4705882352941176\n"
     ]
    }
   ],
   "source": [
    "# 定义始用与Cookie问题的抽象类\n",
    "class Cookie(Pmf):\n",
    "    \"\"\"A map from string bowl ID to probablity.\"\"\"\n",
    "\n",
    "    def __init__(self, hypos):\n",
    "        \"\"\"Initialize self.\n",
    "\n",
    "        hypos: sequence of string bowl IDs\n",
    "        \"\"\"\n",
    "        Pmf.__init__(self)\n",
    "        for hypo in hypos:\n",
    "            self.Set(hypo, 1)\n",
    "        self.Normalize()\n",
    "\n",
    "    def Update(self, data):\n",
    "        \"\"\"Updates the PMF with new data.\n",
    "\n",
    "        data: string cookie type\n",
    "        \"\"\"\n",
    "        for hypo in self.Values():\n",
    "            self[hypo] *= self.Likelihood(data, hypo)\n",
    "        self.Normalize()\n",
    "\n",
    "    mixes = {\n",
    "        'Bowl 1':dict(Cookie=0.75, Sweet=0.25),\n",
    "        'Bowl 2':dict(Cookie=0.5, Sweet=0.5),\n",
    "    }\n",
    "\n",
    "    def Likelihood(self, data, hypo):\n",
    "        \"\"\"The likelihood of the data under the hypothesis.\n",
    "\n",
    "        data: string cookie type\n",
    "        hypo: string bowl ID\n",
    "        \"\"\"\n",
    "        mix = self.mixes[hypo]\n",
    "        like = mix[data]\n",
    "        return like\n",
    "\n",
    "# 抽到一个曲奇来自'Bowl 1'的概率\n",
    "pmf = Cookie(['Bowl 1', 'Bowl 2'])\n",
    "pmf.Update('Cookie')\n",
    "pmf.Print()\n",
    "\n",
    "# 有放回的抽取三次，分别为'Cookie', 'Sweet', 'Cookie'\n",
    "pmf=Cookie(['Bowl 1', 'Bowl 2'])\n",
    "dataset = ['Cookie', 'Sweet', 'Cookie']\n",
    "for data in dataset:\n",
    "    pmf.Update(data)\n",
    "    \n",
    "pmf.Print()"
   ]
  },
  {
   "cell_type": "code",
   "execution_count": 45,
   "metadata": {},
   "outputs": [
    {
     "name": "stdout",
     "output_type": "stream",
     "text": [
      "A 0.3333333333333333\n",
      "B 0.0\n",
      "C 0.6666666666666666\n"
     ]
    }
   ],
   "source": [
    "# 定义始用与蒙蒂大厅问题的抽象类\n",
    "\n",
    "class Monty(Pmf):\n",
    "    \"\"\"Map from string location of car to probability\"\"\"\n",
    "\n",
    "    def __init__(self, hypos):\n",
    "        \"\"\"Initialize the distribution.\n",
    "\n",
    "        hypos: sequence of hypotheses\n",
    "        \"\"\"\n",
    "        Pmf.__init__(self)\n",
    "        for hypo in hypos:\n",
    "            self.Set(hypo, 1)\n",
    "        self.Normalize()\n",
    "\n",
    "    def Update(self, data):\n",
    "        \"\"\"Updates each hypothesis based on the data.\n",
    "\n",
    "        data: string 'A', 'B', or 'C'\n",
    "        \"\"\"\n",
    "        for hypo in self.Values():\n",
    "            self[hypo] *= self.Likelihood(data, hypo)\n",
    "        self.Normalize()\n",
    "\n",
    "    def Likelihood(self, data, hypo):\n",
    "        \"\"\"Compute the likelihood of the data under the hypothesis.\n",
    "\n",
    "        hypo: string name of the door where the prize is\n",
    "        data: string name of the door Monty opened\n",
    "        \"\"\"\n",
    "        if hypo == data:\n",
    "            return 0\n",
    "        elif hypo == 'A':\n",
    "            return 0.5\n",
    "        else:\n",
    "            return 1\n",
    "        \n",
    "pmf = Monty('ABC')\n",
    "pmf.Update('B')\n",
    "pmf.Print()"
   ]
  },
  {
   "cell_type": "markdown",
   "metadata": {},
   "source": [
    "# 补充内容1：类-概率分布pmf"
   ]
  },
  {
   "cell_type": "code",
   "execution_count": 37,
   "metadata": {},
   "outputs": [
    {
     "name": "stdout",
     "output_type": "stream",
     "text": [
      "Bowl 1 0.5\n",
      "Bowl 2 0.5\n",
      "Bowl1 0.5\n",
      "Bowl2 0.5\n",
      "1 0.16666666666666666\n",
      "2 0.16666666666666666\n",
      "3 0.16666666666666666\n",
      "4 0.16666666666666666\n",
      "5 0.16666666666666666\n",
      "6 0.16666666666666666\n"
     ]
    }
   ],
   "source": [
    "# 方法一：直接赋值\n",
    "pmf1 = Pmf()\n",
    "pmf1['Bowl 1'] = 0.5\n",
    "pmf1['Bowl 2'] = 0.5\n",
    "\n",
    "# 方法二：.set\n",
    "pmf2 = Pmf()\n",
    "pmf2.Set('Bowl1',0.5) \n",
    "pmf2.Set('Bowl2',0.5) \n",
    "\n",
    "# 方法三：多值循环赋值\n",
    "pmf3 = Pmf()\n",
    "for x in [1,2,3,4,5,6]:\n",
    "    pmf3.Set(x,1/6.0)\n",
    "    \n",
    "pmf1.Print()\n",
    "pmf2.Print()\n",
    "pmf3.Print()"
   ]
  },
  {
   "cell_type": "markdown",
   "metadata": {},
   "source": [
    "# 补充内容2：详解cookie类定义过程"
   ]
  },
  {
   "cell_type": "code",
   "execution_count": 25,
   "metadata": {},
   "outputs": [
    {
     "data": {
      "text/plain": [
       "Pmf({'Bowl 1': 0.5, 'Bowl 2': 0.5})"
      ]
     },
     "execution_count": 25,
     "metadata": {},
     "output_type": "execute_result"
    }
   ],
   "source": [
    "# 2种假设：抽取的曲奇来自'Bowl 1'；抽取的曲奇来自'Bowl 2'\n",
    "hypos = ['Bowl 1', 'Bowl 2']\n",
    "\n",
    "# 将假设映射到概率，类型为pmf，每个假设赋予相同的先验概率“1/n”\n",
    "# 等价于 __init__\n",
    "# hypos = ['Bowl 1', 'Bowl 2']\n",
    "# pmf = Cookie(hypos)\n",
    "pmf = Pmf()\n",
    "for hypo in hypos:\n",
    "    pmf.Set(hypo,1)\n",
    "pmf.Normalize()\n",
    "\n",
    "# 似然度和update\n",
    "#等价于pmf.Updata('vanilla')\n",
    "mixes = {\n",
    "        'Bowl 1':dict(vanilla=0.75, chocolate=0.25),\n",
    "        'Bowl 2':dict(vanilla=0.5, chocolate=0.5)\n",
    "    }\n",
    "\n",
    "# 'Bowl 1'似然度='Bowl 1'曲奇比例\n",
    "hypo = 'Bowl 1'\n",
    "mix = mixes[hypo]\n",
    "data= 'vanilla'\n",
    "like = mix[data]\n",
    "\n",
    "# 'Bowl 1'先验概率\n",
    "pre = pmf[hypo]\n",
    "\n",
    "# updata\n",
    "update = pre* like\n",
    "\n",
    "# 同样计算除'Bowl 1'的结果，归一化得到各自概率\n"
   ]
  }
 ],
 "metadata": {
  "kernelspec": {
   "display_name": "Python 3",
   "language": "python",
   "name": "python3"
  },
  "language_info": {
   "codemirror_mode": {
    "name": "ipython",
    "version": 3
   },
   "file_extension": ".py",
   "mimetype": "text/x-python",
   "name": "python",
   "nbconvert_exporter": "python",
   "pygments_lexer": "ipython3",
   "version": "3.6.4"
  }
 },
 "nbformat": 4,
 "nbformat_minor": 2
}
