{
 "cells": [
  {
   "cell_type": "markdown",
   "metadata": {},
   "source": [
    "# 2018-10-17"
   ]
  },
  {
   "cell_type": "markdown",
   "metadata": {},
   "source": [
    "## 字典"
   ]
  },
  {
   "cell_type": "code",
   "execution_count": 1,
   "metadata": {},
   "outputs": [
    {
     "data": {
      "text/plain": [
       "{'Bowl1': {'chocolate': 0.25, 'vanilla': 0.75},\n",
       " 'Bowl2': {'chocolate': 0.5, 'vanilla': 0.5}}"
      ]
     },
     "execution_count": 1,
     "metadata": {},
     "output_type": "execute_result"
    }
   ],
   "source": [
    "# 定义\n",
    "#  1   dict()和等号=\n",
    "mixes = dict(Bowl1=dict(vanilla=0.75, chocolate=0.25),Bowl2=dict(vanilla=0.5, chocolate=0.5))\n",
    "mixes"
   ]
  },
  {
   "cell_type": "code",
   "execution_count": 2,
   "metadata": {},
   "outputs": [
    {
     "data": {
      "text/plain": [
       "{'Bowl 1': {'chocolate': 0.25, 'vanilla': 0.75},\n",
       " 'Bowl 2': {'chocolate': 0.5, 'vanilla': 0.5}}"
      ]
     },
     "execution_count": 2,
     "metadata": {},
     "output_type": "execute_result"
    }
   ],
   "source": [
    "#  2   花括号{}和冒号：\n",
    "mixes = {\n",
    "        'Bowl 1':dict(vanilla=0.75, chocolate=0.25),\n",
    "        'Bowl 2':dict(vanilla=0.5, chocolate=0.5)\n",
    "    }\n",
    "mixes"
   ]
  },
  {
   "cell_type": "code",
   "execution_count": 3,
   "metadata": {},
   "outputs": [
    {
     "data": {
      "text/plain": [
       "{'Bowl 1': {'chocolate': 0.25, 'vanilla': 0.75},\n",
       " 'Bowl 2': {'chocolate': 0.5, 'vanilla': 0.5}}"
      ]
     },
     "execution_count": 3,
     "metadata": {},
     "output_type": "execute_result"
    }
   ],
   "source": [
    "#  3   映射函数\n",
    "mixes = dict(zip(['Bowl 1', 'Bowl 2'], [dict(vanilla=0.75, chocolate=0.25), dict(vanilla=0.5, chocolate=0.5)]))   \n",
    "mixes"
   ]
  },
  {
   "cell_type": "code",
   "execution_count": 4,
   "metadata": {},
   "outputs": [
    {
     "data": {
      "text/plain": [
       "{'one': 1, 'three': 3, 'two': 2}"
      ]
     },
     "execution_count": 4,
     "metadata": {},
     "output_type": "execute_result"
    }
   ],
   "source": [
    "#  4   映射函数\n",
    "dict(zip(['one', 'two', 'three'], [1, 2, 3]))   # 映射函数方式来构造字典\n"
   ]
  },
  {
   "cell_type": "markdown",
   "metadata": {},
   "source": [
    "## 环境变量"
   ]
  },
  {
   "cell_type": "code",
   "execution_count": null,
   "metadata": {},
   "outputs": [],
   "source": [
    "import sys, os\n",
    "print('--------')\n",
    "for path in sys.path:\n",
    "    print(path)\n",
    "print('--------')"
   ]
  }
 ],
 "metadata": {
  "kernelspec": {
   "display_name": "Python 3",
   "language": "python",
   "name": "python3"
  },
  "language_info": {
   "codemirror_mode": {
    "name": "ipython",
    "version": 3
   },
   "file_extension": ".py",
   "mimetype": "text/x-python",
   "name": "python",
   "nbconvert_exporter": "python",
   "pygments_lexer": "ipython3",
   "version": "3.6.4"
  }
 },
 "nbformat": 4,
 "nbformat_minor": 2
}
